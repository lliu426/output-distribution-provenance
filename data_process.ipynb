{
 "cells": [
  {
   "cell_type": "code",
   "execution_count": 4,
   "id": "321c8a59-b65f-42f2-873a-97b28442694a",
   "metadata": {},
   "outputs": [
    {
     "name": "stdout",
     "output_type": "stream",
     "text": [
      "✅ Done. Kept 18796 items with cleaned masked_sentences.\n"
     ]
    }
   ],
   "source": [
    "import json\n",
    "import re\n",
    "\n",
    "input_path = 'data/ConceptNet/test.jsonl'\n",
    "output_path = 'data/ConceptNet/test_filtered.jsonl'\n",
    "\n",
    "# Match [MASK] followed by punctuation and optional spaces at the end\n",
    "pattern = re.compile(r'\\s*\\[MASK\\]\\s*[\\.\\?\\!\\,\\;\\:\\\"]?\\s*$')\n",
    "\n",
    "kept = 0\n",
    "with open(input_path, 'r', encoding='utf-8') as infile, open(output_path, 'w', encoding='utf-8') as outfile:\n",
    "    for line in infile:\n",
    "        item = json.loads(line)\n",
    "        sentence = item.get(\"masked_sentences\", [\"\"])[0]\n",
    "        \n",
    "        if pattern.search(sentence):\n",
    "            # Remove [MASK] and trailing punctuation/spaces\n",
    "            cleaned = re.sub(r'\\s*\\[MASK\\]\\s*[\\.\\?\\!\\,\\;\\:\\\"]?\\s*$', '', sentence).rstrip()\n",
    "            item[\"masked_sentences\"][0] = cleaned\n",
    "            outfile.write(json.dumps(item) + '\\n')\n",
    "            kept += 1\n",
    "\n",
    "print(f\"✅ Done. Kept {kept} items with cleaned masked_sentences.\")\n"
   ]
  },
  {
   "cell_type": "code",
   "execution_count": 5,
   "id": "409b167b-2764-496d-bb11-7afdd3ed80a6",
   "metadata": {},
   "outputs": [
    {
     "name": "stdout",
     "output_type": "stream",
     "text": [
      "✅ Done. Kept 213 entries in filtered Squad file.\n"
     ]
    }
   ],
   "source": [
    "import json\n",
    "import re\n",
    "\n",
    "input_path = 'data/Squad/test.jsonl'\n",
    "output_path = 'data/Squad/test_filtered.jsonl'\n",
    "\n",
    "# Match [MASK] + punctuation + optional whitespace at end of string\n",
    "pattern = re.compile(r'\\s*\\[MASK\\]\\s*[\\.\\?\\!\\,\\;\\:\\\"]?\\s*$')\n",
    "\n",
    "kept = 0\n",
    "with open(input_path, 'r', encoding='utf-8') as infile, open(output_path, 'w', encoding='utf-8') as outfile:\n",
    "    for line in infile:\n",
    "        item = json.loads(line)\n",
    "        sentence = item.get(\"masked_sentences\", [\"\"])[0]\n",
    "        \n",
    "        if pattern.search(sentence):\n",
    "            # Clean sentence: remove [MASK] and trailing punctuation/whitespace\n",
    "            cleaned = re.sub(r'\\s*\\[MASK\\]\\s*[\\.\\?\\!\\,\\;\\:\\\"]?\\s*$', '', sentence).rstrip()\n",
    "            item[\"masked_sentences\"][0] = cleaned\n",
    "            outfile.write(json.dumps(item) + '\\n')\n",
    "            kept += 1\n",
    "\n",
    "print(f\"✅ Done. Kept {kept} entries in filtered Squad file.\")\n"
   ]
  },
  {
   "cell_type": "code",
   "execution_count": 6,
   "id": "1be02e0f-0306-459e-a801-734011085757",
   "metadata": {},
   "outputs": [
    {
     "name": "stdout",
     "output_type": "stream",
     "text": [
      "✅ Finished 41 files. Kept 11635 objects and 153907 cleaned sentences in total.\n"
     ]
    }
   ],
   "source": [
    "import json\n",
    "import re\n",
    "import glob\n",
    "\n",
    "input_files = glob.glob('data/TREx/P*.jsonl')\n",
    "output_path = 'data/TREx/combined_filtered.jsonl'\n",
    "\n",
    "pattern = re.compile(r'\\s*\\[MASK\\]\\s*[\\.\\?\\!\\,\\;\\:\\\"]?\\s*$')\n",
    "\n",
    "total_files = 0\n",
    "total_objects = 0\n",
    "total_sentences = 0\n",
    "\n",
    "with open(output_path, 'w', encoding='utf-8') as outfile:\n",
    "    for file_path in input_files:\n",
    "        total_files += 1\n",
    "        with open(file_path, 'r', encoding='utf-8') as infile:\n",
    "            for line in infile:\n",
    "                item = json.loads(line)\n",
    "                seen = set()\n",
    "                cleaned_evidences = []\n",
    "\n",
    "                for ev in item.get(\"evidences\", []):\n",
    "                    sentence = ev.get(\"masked_sentence\", \"\")\n",
    "                    if sentence in seen:\n",
    "                        continue\n",
    "                    seen.add(sentence)\n",
    "\n",
    "                    if pattern.search(sentence):\n",
    "                        cleaned = re.sub(r'\\s*\\[MASK\\]\\s*[\\.\\?\\!\\,\\;\\:\\\"]?\\s*$', '', sentence).rstrip()\n",
    "                        cleaned_evidences.append({\"masked_sentence\": cleaned})\n",
    "                        total_sentences += 1\n",
    "\n",
    "                if cleaned_evidences:\n",
    "                    item[\"evidences\"] = cleaned_evidences\n",
    "                    outfile.write(json.dumps(item) + '\\n')\n",
    "                    total_objects += 1\n",
    "\n",
    "print(f\"✅ Finished {total_files} files. Kept {total_objects} objects and {total_sentences} cleaned sentences in total.\")\n"
   ]
  }
 ],
 "metadata": {
  "kernelspec": {
   "display_name": "Python 3 (ipykernel)",
   "language": "python",
   "name": "python3"
  },
  "language_info": {
   "codemirror_mode": {
    "name": "ipython",
    "version": 3
   },
   "file_extension": ".py",
   "mimetype": "text/x-python",
   "name": "python",
   "nbconvert_exporter": "python",
   "pygments_lexer": "ipython3",
   "version": "3.13.3"
  }
 },
 "nbformat": 4,
 "nbformat_minor": 5
}
